{
 "cells": [
  {
   "cell_type": "code",
   "execution_count": null,
   "metadata": {
    "ExecuteTime": {
     "start_time": "2024-04-22T08:14:23.941874Z"
    }
   },
   "outputs": [],
   "source": [
    "import pandas as pd\n",
    "import time\n",
    "import torch as th\n",
    "from fastnode2vec import Node2Vec\n",
    "from tqdm import tqdm\n",
    "from sklearn.preprocessing import normalize\n",
    "import dgl\n",
    "from copy import copy"
   ]
  },
  {
   "cell_type": "markdown",
   "metadata": {},
   "source": [
    "# Data loading\n",
    "## original data\n",
    "### N2V model"
   ]
  },
  {
   "cell_type": "code",
   "execution_count": null,
   "metadata": {
    "collapsed": false
   },
   "outputs": [],
   "source": [
    "model = Node2Vec.load('cpc_embedding')"
   ]
  },
  {
   "cell_type": "markdown",
   "metadata": {},
   "source": [
    "### vocab"
   ]
  },
  {
   "cell_type": "code",
   "execution_count": null,
   "metadata": {
    "collapsed": false
   },
   "outputs": [],
   "source": [
    "vocab = model.wv.index_to_key"
   ]
  },
  {
   "cell_type": "markdown",
   "metadata": {},
   "source": [
    "### CPC_Tree"
   ]
  },
  {
   "cell_type": "code",
   "execution_count": null,
   "metadata": {
    "collapsed": false
   },
   "outputs": [],
   "source": [
    "cpc_df = pd.read_excel('../path/to/cpc_tree.xlsx') ## Including: CPC code, Level features, Frequency of occurrence, Child CPC, Parent CPC\n",
    "cpc_tree=cpc_df.to_dict(orient='index')"
   ]
  },
  {
   "cell_type": "code",
   "execution_count": null,
   "metadata": {
    "collapsed": false
   },
   "outputs": [],
   "source": [
    "for c in cpc_tree.keys():\n",
    "    cpc_tree[c]['children'] = eval(cpc_tree[c]['children']) ## list_str->list\n",
    "    cpc_tree[c]['embedding'] = th.zeros(512)\n",
    "    cpc_tree[c]['embedding_up'] = th.zeros(512)\n",
    "    cpc_tree[c]['embedding_down'] = th.zeros(512)"
   ]
  },
  {
   "cell_type": "markdown",
   "metadata": {},
   "source": [
    "### CPC_Co_Occurrence_Net"
   ]
  },
  {
   "cell_type": "code",
   "execution_count": null,
   "metadata": {
    "collapsed": false
   },
   "outputs": [],
   "source": [
    "cpc_coo = \"../data/of/cpc_co_occurrence_net\""
   ]
  },
  {
   "cell_type": "markdown",
   "metadata": {},
   "source": [
    "## Data processing\n",
    "### Add original embedding to CPC_Tree"
   ]
  },
  {
   "cell_type": "code",
   "execution_count": null,
   "metadata": {
    "collapsed": false
   },
   "outputs": [],
   "source": [
    "for v in tqdm(vocab):\n",
    "    cpc_tree[v]['embedding'] = model.wv[v]"
   ]
  },
  {
   "cell_type": "markdown",
   "metadata": {},
   "source": [
    "### cpc2id，id2cpc encode"
   ]
  },
  {
   "cell_type": "code",
   "execution_count": null,
   "metadata": {
    "collapsed": false
   },
   "outputs": [],
   "source": [
    "cpc2id = {cpc:id_ for id_,cpc in enumerate(vocab)}\n",
    "id2cpc = {id_:cpc for cpc,id_ in cpc2id.items()}"
   ]
  },
  {
   "cell_type": "markdown",
   "metadata": {},
   "source": [
    "## Make Graph\n",
    "### Graph Data"
   ]
  },
  {
   "cell_type": "code",
   "execution_count": null,
   "metadata": {
    "collapsed": false
   },
   "outputs": [],
   "source": [
    "start_list = []\n",
    "end_list = []\n",
    "weigh_list = []\n",
    "embedding_list = normalize([list(model.wv[id2cpc[i]]) for i in range(len(vocab))])"
   ]
  },
  {
   "cell_type": "code",
   "execution_count": null,
   "metadata": {
    "collapsed": false
   },
   "outputs": [],
   "source": [
    "for s,e,w in tqdm(cpc_coo):\n",
    "    start_list.append(cpc2id[s])\n",
    "    end_list.append(cpc2id[e])\n",
    "    weigh_list.append(w)"
   ]
  },
  {
   "cell_type": "code",
   "execution_count": null,
   "metadata": {
    "collapsed": false
   },
   "outputs": [],
   "source": [
    "num_list = [int(cpc_tree[id2cpc[i]]['num']) for i in range(len(vocab))]"
   ]
  },
  {
   "cell_type": "code",
   "execution_count": null,
   "metadata": {
    "collapsed": false
   },
   "outputs": [],
   "source": [
    "cpc_start = [eval(c)[0] for c in cpc_coo]\n",
    "cpc_num = [c[2] for c in cpc_coo]\n",
    "cpc_coo_num = {c:0 for c in cpc_start}"
   ]
  },
  {
   "cell_type": "code",
   "execution_count": null,
   "metadata": {
    "collapsed": false
   },
   "outputs": [],
   "source": [
    "for c in range(len(cpc_start)):\n",
    "    cpc_coo_num[cpc_start[c]] += cpc_num[c]"
   ]
  },
  {
   "cell_type": "code",
   "execution_count": null,
   "metadata": {
    "collapsed": false
   },
   "outputs": [],
   "source": [
    "wight_degree_list = [cpc_coo_num[id2cpc[i]] for i in range(len(vocab))]"
   ]
  },
  {
   "cell_type": "markdown",
   "metadata": {},
   "source": [
    "### Generate Graph"
   ]
  },
  {
   "cell_type": "code",
   "execution_count": null,
   "metadata": {
    "collapsed": false
   },
   "outputs": [],
   "source": [
    "u,v = th.tensor(start_list), th.tensor(end_list)"
   ]
  },
  {
   "cell_type": "code",
   "execution_count": null,
   "metadata": {
    "collapsed": false
   },
   "outputs": [],
   "source": [
    "g = dgl.graph((u,v))"
   ]
  },
  {
   "cell_type": "markdown",
   "metadata": {},
   "source": [
    "### Add Weight"
   ]
  },
  {
   "cell_type": "code",
   "execution_count": null,
   "metadata": {
    "collapsed": false
   },
   "outputs": [],
   "source": [
    "g.edata['w'] = th.tensor(weigh_list)\n",
    "g.ndata['e'] = th.tensor(embedding_list)\n",
    "g.ndata['n'] = th.tensor(num_list)\n",
    "g.ndata['d'] = g.in_degrees()\n",
    "g.ndata['w_d'] = th.tensor(wight_degree_list)"
   ]
  },
  {
   "cell_type": "markdown",
   "metadata": {},
   "source": [
    "# Operation Function\n",
    "## Reset Embedding"
   ]
  },
  {
   "cell_type": "code",
   "execution_count": null,
   "metadata": {
    "collapsed": false
   },
   "outputs": [],
   "source": [
    "def reset_embedding():\n",
    "    for c in cpc_tree.keys():\n",
    "        cpc_tree[c]['embedding'] = th.zeros(512)\n",
    "        cpc_tree[c]['embedding_up'] = th.zeros(512)\n",
    "        cpc_tree[c]['embedding_down'] = th.zeros(512)"
   ]
  },
  {
   "cell_type": "markdown",
   "metadata": {},
   "source": [
    "## Update Graph Node"
   ]
  },
  {
   "cell_type": "code",
   "execution_count": null,
   "metadata": {
    "collapsed": false
   },
   "outputs": [],
   "source": [
    "def update_graph_node():\n",
    "    embedding = normalize([list(cpc_tree[id2cpc[i]]['embedding_down']) for i in range(len(vocab))])\n",
    "    g.ndata['e'] = th.tensor(embedding)"
   ]
  },
  {
   "cell_type": "markdown",
   "metadata": {},
   "source": [
    "## UP"
   ]
  },
  {
   "cell_type": "code",
   "execution_count": null,
   "metadata": {
    "collapsed": false
   },
   "outputs": [],
   "source": [
    "def parent_up(vocab_embedding):\n",
    "    for id_,emb in enumerate(vocab_embedding):\n",
    "        cpc_tree[id2cpc[id_]]['embedding'] = emb.clone()\n",
    "        cpc_tree[id2cpc[id_]]['embedding'] = th.tensor(normalize([cpc_tree[id2cpc[id_]]['embedding'].tolist()])[0])\n",
    "    for i in range(15):\n",
    "        z = 16-i # 16->2\n",
    "        for c in cpc_tree.keys():\n",
    "            if cpc_tree[c]['level'] == z:\n",
    "                children = cpc_tree[c]['children']\n",
    "                if len(children)==0:\n",
    "                    cpc_tree[c]['embedding_up'] = cpc_tree[c]['embedding']\n",
    "                else:\n",
    "                    all_num = cpc_tree[c]['num']\n",
    "                    res_num = cpc_tree[c]['num']\n",
    "                    if all_num != 0:\n",
    "                        for child in children:\n",
    "                            res_num -= cpc_tree[child]['num']\n",
    "                            cpc_tree[c]['embedding_up'] += cpc_tree[child]['num']/all_num*cpc_tree[child]['embedding_up']\n",
    "                        if res_num != 0:\n",
    "                            cpc_tree[c]['embedding_up'] += res_num/all_num*cpc_tree[c]['embedding']\n",
    "                cpc_tree[c]['embedding_up']=th.tensor(normalize([cpc_tree[c]['embedding_up'].tolist()])[0])"
   ]
  },
  {
   "cell_type": "markdown",
   "metadata": {},
   "source": [
    "## Down"
   ]
  },
  {
   "cell_type": "code",
   "execution_count": null,
   "metadata": {
    "collapsed": false
   },
   "outputs": [],
   "source": [
    "def inherit_down(inh_k):\n",
    "    for i in range(2,17): # 2->16\n",
    "        for c in cpc_tree.keys():\n",
    "            if cpc_tree[c]['level'] == 2:\n",
    "                cpc_tree[c]['embedding_down'] = cpc_tree[c]['embedding_up']\n",
    "            if cpc_tree[c]['level'] == i and cpc_tree[c]['num'] > 0:\n",
    "                children = cpc_tree[c]['children']\n",
    "                inh_num = cpc_tree[c]['level']/16* inh_k\n",
    "                emb_inherit = inh_num * cpc_tree[c]['embedding_down']\n",
    "                peer_num = inh_k*(1-cpc_tree[c]['level']/16)\n",
    "                child_emb_update = {}\n",
    "                for child in children:\n",
    "                    out_child = copy(children)\n",
    "                    out_child.remove(child)\n",
    "                    emb_peer = th.zeros(512)\n",
    "                    for peer in out_child:\n",
    "                        emb_peer -= peer_num/len(out_child) * cpc_tree[peer]['embedding_up']\n",
    "                    child_emb_update[child] = emb_inherit+emb_peer+cpc_tree[child]['embedding_up']\n",
    "                for child in children:\n",
    "                    cpc_tree[child]['embedding_down'] = child_emb_update[child]\n",
    "                    cpc_tree[child]['embedding_down'] = th.tensor(normalize([cpc_tree[child]['embedding_down'].tolist()])[0])"
   ]
  },
  {
   "cell_type": "markdown",
   "metadata": {},
   "source": [
    "## Graph Update"
   ]
  },
  {
   "cell_type": "code",
   "execution_count": null,
   "metadata": {
    "collapsed": false
   },
   "outputs": [],
   "source": [
    "def message_func(edges):\n",
    "    return {'emb': edges.src['e'], 'wei': edges.data['w'], 'num': edges.dst['w_d'], 'deg': edges.dst['d']}"
   ]
  },
  {
   "cell_type": "code",
   "execution_count": null,
   "metadata": {
    "collapsed": false
   },
   "outputs": [],
   "source": [
    "def reduce_func(nodes):\n",
    "    update = []\n",
    "    for batch_e, batch_w, batch_n, batch_d in zip(nodes.mailbox['emb'], nodes.mailbox['wei'], nodes.mailbox['num'], nodes.mailbox['deg']):\n",
    "        z = th.zeros(512)\n",
    "        for e,w,n,d in zip(batch_e, batch_w, batch_n, batch_d):\n",
    "            z += (w*d-n)/(n*d)*e\n",
    "        update.append(z)\n",
    "    return {'update': th.stack(update)}"
   ]
  },
  {
   "cell_type": "code",
   "execution_count": null,
   "metadata": {
    "collapsed": false
   },
   "outputs": [],
   "source": [
    "def update_coo_net(neig_k):\n",
    "    g.update_all(message_func, reduce_func)\n",
    "    g.ndata['e'] = g.ndata['e'] + neig_k*g.ndata['update']"
   ]
  },
  {
   "cell_type": "markdown",
   "metadata": {},
   "source": [
    "## Define Loss Function\n",
    "### Cosine Similarity"
   ]
  },
  {
   "cell_type": "code",
   "execution_count": null,
   "metadata": {
    "collapsed": false
   },
   "outputs": [],
   "source": [
    "def cos_sim(x,y):\n",
    "    return th.nn.functional.cosine_similarity(x, y, dim=0, eps=1e-8)"
   ]
  },
  {
   "cell_type": "markdown",
   "metadata": {},
   "source": [
    "### Tree Loss"
   ]
  },
  {
   "cell_type": "code",
   "execution_count": null,
   "metadata": {
    "collapsed": false
   },
   "outputs": [],
   "source": [
    "def tree_loss(cpc_tree_dict):\n",
    "    loss_par = 0\n",
    "    loss_pee = 0\n",
    "    num = 0\n",
    "    for i in range(2,17):\n",
    "        for c in cpc_tree_dict.keys():\n",
    "            if cpc_tree_dict[c]['level'] == i:\n",
    "                loss_parent = 0\n",
    "                loss_peer = []\n",
    "                children = cpc_tree_dict[c]['children']\n",
    "                if len(children) == 0:\n",
    "                    continue\n",
    "                else:\n",
    "                    for child in children:\n",
    "                        loss_parent += (1-cos_sim(cpc_tree_dict[c]['embedding_up'], cpc_tree_dict[child]['embedding_up']))*cpc_tree[c]['level']/16\n",
    "                        out_child = copy(children)\n",
    "                        out_child.remove(child)\n",
    "                        for peer in out_child:\n",
    "                            loss_peer.append(cos_sim(cpc_tree_dict[child]['embedding_up'], cpc_tree_dict[peer]['embedding_up'])*(1-cpc_tree[c]['level']/16))\n",
    "                    loss_parent /= len(children)\n",
    "                    if len(loss_peer) != 0:\n",
    "                        loss_pee += sum(loss_peer)/len(loss_peer)\n",
    "                        loss_par += loss_parent\n",
    "                    else:\n",
    "                        loss_par += loss_parent\n",
    "                num += 1\n",
    "    return loss_par/num, loss_pee/num"
   ]
  },
  {
   "cell_type": "markdown",
   "metadata": {},
   "source": [
    "### Graph Loss"
   ]
  },
  {
   "cell_type": "code",
   "execution_count": null,
   "metadata": {
    "collapsed": false
   },
   "outputs": [],
   "source": [
    "def graph_loss():\n",
    "    deg_list = g.ndata['d']\n",
    "    emb_list = g.ndata['e']\n",
    "    num_list = g.ndata['w_d']\n",
    "    loss = 0\n",
    "    for s,e,w in tqdm(cpc_coo):\n",
    "        start = cpc2id[s]\n",
    "        end = cpc2id[e]\n",
    "        mean_deg = deg_list[end]/num_list[end]\n",
    "        loss+=(1-cos_sim(emb_list[start], emb_list[end])) * (w-mean_deg)/num_list[end]\n",
    "    return loss/len(num_list)"
   ]
  },
  {
   "cell_type": "markdown",
   "metadata": {},
   "source": [
    "# Training\n",
    "## Function"
   ]
  },
  {
   "cell_type": "code",
   "execution_count": null,
   "metadata": {
    "collapsed": false
   },
   "outputs": [],
   "source": [
    "def train(inh_k = 0.05, neig_k = 0.05):\n",
    "    inherit_down(inh_k=inh_k)\n",
    "    update_graph_node()\n",
    "    update_coo_net(neig_k=neig_k)\n",
    "    emb_list = g.ndata['e']\n",
    "    reset_embedding()\n",
    "    parent_up(emb_list)"
   ]
  },
  {
   "cell_type": "markdown",
   "metadata": {},
   "source": [
    "## Loss Function"
   ]
  },
  {
   "cell_type": "code",
   "execution_count": null,
   "metadata": {
    "collapsed": false
   },
   "outputs": [],
   "source": [
    "def com_loss():\n",
    "    loss_par, loss_pee = tree_loss(cpc_tree)\n",
    "    loss_g = graph_loss()\n",
    "    return float(loss_par), float(loss_pee),float(loss_g), float(loss_par+loss_pee+loss_g)"
   ]
  },
  {
   "cell_type": "markdown",
   "metadata": {},
   "source": [
    "## Train"
   ]
  },
  {
   "cell_type": "code",
   "execution_count": null,
   "metadata": {
    "collapsed": false
   },
   "outputs": [],
   "source": [
    "loss_dict = {}"
   ]
  },
  {
   "cell_type": "code",
   "execution_count": null,
   "metadata": {
    "collapsed": false
   },
   "outputs": [],
   "source": [
    "def train_embedding(inh_k = 0.05, neig_k = 0.05, k = 10):\n",
    "    print(\"=\"*20+f\"inh_k:{inh_k}, neig_k:{neig_k}\"+\"=\"*20)\n",
    "    loss_dict.setdefault((inh_k, neig_k),{'iter':0, 'loss':10, 'loss_tg':(3,3,3), 'embedding':{}})\n",
    "    reset_embedding()\n",
    "    g.ndata['e'] = th.tensor(embedding_list)\n",
    "    parent_up(g.ndata['e'])\n",
    "    loss_par,loss_pee, loss_g, loss = com_loss()\n",
    "    loss_dict[(inh_k, neig_k)]['loss'] = loss\n",
    "    loss_dict[(inh_k, neig_k)]['loss_tg'] = (loss_par, loss_pee, loss_g)\n",
    "    time_now = time.strftime(\"%m-%d %H:%M:%S\", time.localtime())\n",
    "    print(f\"[{time_now}]iter{0}: loss:{loss}, loss_par:{loss_par}, loss_pae:{loss_pee}, loss_graph:{loss_g}\")\n",
    "    for i in range(k):\n",
    "        train(inh_k=inh_k, neig_k=neig_k)\n",
    "        loss_par,loss_pee, loss_g, loss = com_loss()\n",
    "        time_now = time.strftime(\"%m-%d %H:%M:%S\", time.localtime())\n",
    "        print(f\"[{time_now}]iter{i+1}: loss:{loss}, loss_par:{loss_par}, loss_pee:{loss_pee}, loss_graph:{loss_g}\")\n",
    "        if loss<loss_dict[(inh_k, neig_k)]['loss']:\n",
    "            loss_dict[(inh_k, neig_k)]['iter'] = i+1\n",
    "            loss_dict[(inh_k, neig_k)]['loss'] = loss\n",
    "            loss_dict[(inh_k, neig_k)]['loss_tg'] = (loss_par, loss_pee, loss_g)\n",
    "            loss_dict[(inh_k, neig_k)]['embedding'] = {c_:cpc_tree[c_]['embedding_up'] for c_ in cpc_tree.keys()}\n",
    "        else:\n",
    "            break"
   ]
  },
  {
   "cell_type": "code",
   "execution_count": null,
   "metadata": {
    "collapsed": false,
    "tags": []
   },
   "outputs": [],
   "source": [
    "train_embedding(inh_k=0.8, neig_k=0.1, k=30)"
   ]
  }
 ],
 "metadata": {
  "kernelspec": {
   "display_name": "Python 3 (ipykernel)",
   "language": "python",
   "name": "python3"
  },
  "language_info": {
   "codemirror_mode": {
    "name": "ipython",
    "version": 3
   },
   "file_extension": ".py",
   "mimetype": "text/x-python",
   "name": "python",
   "nbconvert_exporter": "python",
   "pygments_lexer": "ipython3",
   "version": "3.8.10"
  }
 },
 "nbformat": 4,
 "nbformat_minor": 4
}
