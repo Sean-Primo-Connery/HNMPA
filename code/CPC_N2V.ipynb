{
 "cells": [
  {
   "cell_type": "code",
   "execution_count": null,
   "metadata": {
    "collapsed": true
   },
   "outputs": [],
   "source": [
    "from fastnode2vec import Graph, Node2Vec ## FastNode2Vec is a fast implementation of node2vec algorithm, it is based on the original implementation of node2vec, but optimized for speed."
   ]
  },
  {
   "cell_type": "code",
   "execution_count": null,
   "outputs": [],
   "source": [
    "cpc_coo = \"../data/of/cpc_co_occurrence_net\"\n",
    "## CPC_coo is a list of tuples, each tuple is a pair of cpc codes and their co-occurrence frequency, like:[(CPC_A, CPC_B, frequency), (CPC_A, CPC_C, frequency), ...], the frequency is the number of patents that both CPC_A and CPC_B appear in."
   ],
   "metadata": {
    "collapsed": false,
    "is_executing": true
   }
  },
  {
   "cell_type": "code",
   "execution_count": null,
   "outputs": [],
   "source": [
    "graph = Graph(cpc_coo, directed=True, weighted=True)"
   ],
   "metadata": {
    "collapsed": false,
    "is_executing": true
   }
  },
  {
   "cell_type": "code",
   "execution_count": null,
   "outputs": [],
   "source": [
    "n2v = Node2Vec(graph, dim=512, walk_length=100, context=10, p=2.0, q=0.5, batch_walks=256, workers=8)"
   ],
   "metadata": {
    "collapsed": false,
    "is_executing": true
   }
  },
  {
   "cell_type": "code",
   "execution_count": null,
   "outputs": [],
   "source": [
    "n2v.train(epochs=30)"
   ],
   "metadata": {
    "collapsed": false,
    "is_executing": true
   }
  },
  {
   "cell_type": "code",
   "execution_count": null,
   "outputs": [],
   "source": [
    "n2v.save(\"cpc_embedding\")"
   ],
   "metadata": {
    "collapsed": false,
    "is_executing": true
   }
  }
 ],
 "metadata": {
  "kernelspec": {
   "display_name": "Python 3",
   "language": "python",
   "name": "python3"
  },
  "language_info": {
   "codemirror_mode": {
    "name": "ipython",
    "version": 2
   },
   "file_extension": ".py",
   "mimetype": "text/x-python",
   "name": "python",
   "nbconvert_exporter": "python",
   "pygments_lexer": "ipython2",
   "version": "2.7.6"
  }
 },
 "nbformat": 4,
 "nbformat_minor": 0
}
